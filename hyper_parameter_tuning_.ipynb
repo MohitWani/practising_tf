{
  "nbformat": 4,
  "nbformat_minor": 0,
  "metadata": {
    "colab": {
      "name": "hyper parameter tuning .ipynb",
      "provenance": []
    },
    "kernelspec": {
      "name": "python3",
      "display_name": "Python 3"
    },
    "language_info": {
      "name": "python"
    }
  },
  "cells": [
    {
      "cell_type": "code",
      "execution_count": 1,
      "metadata": {
        "id": "JPZhZNwXHCj5"
      },
      "outputs": [],
      "source": [
        "import tensorflow as tf\n",
        "from tensorflow import keras"
      ]
    },
    {
      "cell_type": "code",
      "source": [
        "pip install keras-tuner"
      ],
      "metadata": {
        "colab": {
          "base_uri": "https://localhost:8080/"
        },
        "id": "zZFhgnrEHXDb",
        "outputId": "9e63c083-feb3-44de-de49-ed9d471bf811"
      },
      "execution_count": 2,
      "outputs": [
        {
          "output_type": "stream",
          "name": "stdout",
          "text": [
            "Requirement already satisfied: keras-tuner in /usr/local/lib/python3.7/dist-packages (1.1.2)\n",
            "Requirement already satisfied: kt-legacy in /usr/local/lib/python3.7/dist-packages (from keras-tuner) (1.0.4)\n",
            "Requirement already satisfied: packaging in /usr/local/lib/python3.7/dist-packages (from keras-tuner) (21.3)\n",
            "Requirement already satisfied: requests in /usr/local/lib/python3.7/dist-packages (from keras-tuner) (2.23.0)\n",
            "Requirement already satisfied: tensorboard in /usr/local/lib/python3.7/dist-packages (from keras-tuner) (2.8.0)\n",
            "Requirement already satisfied: ipython in /usr/local/lib/python3.7/dist-packages (from keras-tuner) (5.5.0)\n",
            "Requirement already satisfied: numpy in /usr/local/lib/python3.7/dist-packages (from keras-tuner) (1.21.6)\n",
            "Requirement already satisfied: decorator in /usr/local/lib/python3.7/dist-packages (from ipython->keras-tuner) (4.4.2)\n",
            "Requirement already satisfied: pexpect in /usr/local/lib/python3.7/dist-packages (from ipython->keras-tuner) (4.8.0)\n",
            "Requirement already satisfied: prompt-toolkit<2.0.0,>=1.0.4 in /usr/local/lib/python3.7/dist-packages (from ipython->keras-tuner) (1.0.18)\n",
            "Requirement already satisfied: traitlets>=4.2 in /usr/local/lib/python3.7/dist-packages (from ipython->keras-tuner) (5.1.1)\n",
            "Requirement already satisfied: pickleshare in /usr/local/lib/python3.7/dist-packages (from ipython->keras-tuner) (0.7.5)\n",
            "Requirement already satisfied: setuptools>=18.5 in /usr/local/lib/python3.7/dist-packages (from ipython->keras-tuner) (57.4.0)\n",
            "Requirement already satisfied: simplegeneric>0.8 in /usr/local/lib/python3.7/dist-packages (from ipython->keras-tuner) (0.8.1)\n",
            "Requirement already satisfied: pygments in /usr/local/lib/python3.7/dist-packages (from ipython->keras-tuner) (2.6.1)\n",
            "Requirement already satisfied: wcwidth in /usr/local/lib/python3.7/dist-packages (from prompt-toolkit<2.0.0,>=1.0.4->ipython->keras-tuner) (0.2.5)\n",
            "Requirement already satisfied: six>=1.9.0 in /usr/local/lib/python3.7/dist-packages (from prompt-toolkit<2.0.0,>=1.0.4->ipython->keras-tuner) (1.15.0)\n",
            "Requirement already satisfied: pyparsing!=3.0.5,>=2.0.2 in /usr/local/lib/python3.7/dist-packages (from packaging->keras-tuner) (3.0.8)\n",
            "Requirement already satisfied: ptyprocess>=0.5 in /usr/local/lib/python3.7/dist-packages (from pexpect->ipython->keras-tuner) (0.7.0)\n",
            "Requirement already satisfied: chardet<4,>=3.0.2 in /usr/local/lib/python3.7/dist-packages (from requests->keras-tuner) (3.0.4)\n",
            "Requirement already satisfied: idna<3,>=2.5 in /usr/local/lib/python3.7/dist-packages (from requests->keras-tuner) (2.10)\n",
            "Requirement already satisfied: urllib3!=1.25.0,!=1.25.1,<1.26,>=1.21.1 in /usr/local/lib/python3.7/dist-packages (from requests->keras-tuner) (1.24.3)\n",
            "Requirement already satisfied: certifi>=2017.4.17 in /usr/local/lib/python3.7/dist-packages (from requests->keras-tuner) (2021.10.8)\n",
            "Requirement already satisfied: protobuf>=3.6.0 in /usr/local/lib/python3.7/dist-packages (from tensorboard->keras-tuner) (3.17.3)\n",
            "Requirement already satisfied: tensorboard-data-server<0.7.0,>=0.6.0 in /usr/local/lib/python3.7/dist-packages (from tensorboard->keras-tuner) (0.6.1)\n",
            "Requirement already satisfied: wheel>=0.26 in /usr/local/lib/python3.7/dist-packages (from tensorboard->keras-tuner) (0.37.1)\n",
            "Requirement already satisfied: tensorboard-plugin-wit>=1.6.0 in /usr/local/lib/python3.7/dist-packages (from tensorboard->keras-tuner) (1.8.1)\n",
            "Requirement already satisfied: google-auth-oauthlib<0.5,>=0.4.1 in /usr/local/lib/python3.7/dist-packages (from tensorboard->keras-tuner) (0.4.6)\n",
            "Requirement already satisfied: markdown>=2.6.8 in /usr/local/lib/python3.7/dist-packages (from tensorboard->keras-tuner) (3.3.6)\n",
            "Requirement already satisfied: google-auth<3,>=1.6.3 in /usr/local/lib/python3.7/dist-packages (from tensorboard->keras-tuner) (1.35.0)\n",
            "Requirement already satisfied: absl-py>=0.4 in /usr/local/lib/python3.7/dist-packages (from tensorboard->keras-tuner) (1.0.0)\n",
            "Requirement already satisfied: grpcio>=1.24.3 in /usr/local/lib/python3.7/dist-packages (from tensorboard->keras-tuner) (1.44.0)\n",
            "Requirement already satisfied: werkzeug>=0.11.15 in /usr/local/lib/python3.7/dist-packages (from tensorboard->keras-tuner) (1.0.1)\n",
            "Requirement already satisfied: pyasn1-modules>=0.2.1 in /usr/local/lib/python3.7/dist-packages (from google-auth<3,>=1.6.3->tensorboard->keras-tuner) (0.2.8)\n",
            "Requirement already satisfied: cachetools<5.0,>=2.0.0 in /usr/local/lib/python3.7/dist-packages (from google-auth<3,>=1.6.3->tensorboard->keras-tuner) (4.2.4)\n",
            "Requirement already satisfied: rsa<5,>=3.1.4 in /usr/local/lib/python3.7/dist-packages (from google-auth<3,>=1.6.3->tensorboard->keras-tuner) (4.8)\n",
            "Requirement already satisfied: requests-oauthlib>=0.7.0 in /usr/local/lib/python3.7/dist-packages (from google-auth-oauthlib<0.5,>=0.4.1->tensorboard->keras-tuner) (1.3.1)\n",
            "Requirement already satisfied: importlib-metadata>=4.4 in /usr/local/lib/python3.7/dist-packages (from markdown>=2.6.8->tensorboard->keras-tuner) (4.11.3)\n",
            "Requirement already satisfied: zipp>=0.5 in /usr/local/lib/python3.7/dist-packages (from importlib-metadata>=4.4->markdown>=2.6.8->tensorboard->keras-tuner) (3.8.0)\n",
            "Requirement already satisfied: typing-extensions>=3.6.4 in /usr/local/lib/python3.7/dist-packages (from importlib-metadata>=4.4->markdown>=2.6.8->tensorboard->keras-tuner) (4.2.0)\n",
            "Requirement already satisfied: pyasn1<0.5.0,>=0.4.6 in /usr/local/lib/python3.7/dist-packages (from pyasn1-modules>=0.2.1->google-auth<3,>=1.6.3->tensorboard->keras-tuner) (0.4.8)\n",
            "Requirement already satisfied: oauthlib>=3.0.0 in /usr/local/lib/python3.7/dist-packages (from requests-oauthlib>=0.7.0->google-auth-oauthlib<0.5,>=0.4.1->tensorboard->keras-tuner) (3.2.0)\n"
          ]
        }
      ]
    },
    {
      "cell_type": "code",
      "source": [
        "import keras_tuner as kt"
      ],
      "metadata": {
        "id": "OrQ2JfbQHd6l"
      },
      "execution_count": 3,
      "outputs": []
    },
    {
      "cell_type": "code",
      "source": [
        "(train_img, train_labels), (test_img, test_labels) = keras.datasets.fashion_mnist.load_data()"
      ],
      "metadata": {
        "id": "DKYVaBsVHmEe"
      },
      "execution_count": 4,
      "outputs": []
    },
    {
      "cell_type": "code",
      "source": [
        "train_img = train_img.astype('float32')/255.0\n",
        "test_img = test_img.astype('float32')/255.0"
      ],
      "metadata": {
        "id": "NJkSZEn_IBbs"
      },
      "execution_count": 5,
      "outputs": []
    },
    {
      "cell_type": "code",
      "source": [
        "def model_builder(hp):\n",
        "  model = keras.Sequential()\n",
        "  model.add(keras.layers.Flatten(input_shape=(28, 28)))\n",
        "\n",
        "  \n",
        "  hp_units = hp.Int('units', min_value=32, max_value=512, step=32)\n",
        "  model.add(keras.layers.Dense(units=hp_units, activation='relu'))\n",
        "  model.add(keras.layers.Dense(10))\n",
        "\n",
        "  \n",
        "  hp_learning_rate = hp.Choice('learning_rate', values=[1e-2, 1e-3, 1e-4])\n",
        "\n",
        "  model.compile(optimizer=keras.optimizers.Adam(learning_rate=hp_learning_rate),\n",
        "                loss=keras.losses.SparseCategoricalCrossentropy(from_logits=True),\n",
        "                metrics=['accuracy'])\n",
        "\n",
        "  return model"
      ],
      "metadata": {
        "id": "YJ80Kl6uIW2T"
      },
      "execution_count": 7,
      "outputs": []
    },
    {
      "cell_type": "code",
      "source": [
        "tuner = kt.Hyperband(model_builder,\n",
        "                     objective='val_accuracy',\n",
        "                     max_epochs=10,\n",
        "                     factor=3,\n",
        "                     project_name='intro to kt',\n",
        "                     directory='my_dir')"
      ],
      "metadata": {
        "id": "wGFn-ujSNtbU"
      },
      "execution_count": 8,
      "outputs": []
    },
    {
      "cell_type": "code",
      "source": [
        "early_stopping =tf.keras.callbacks.EarlyStopping(monitor='val_loss',patience=5)"
      ],
      "metadata": {
        "id": "-KBPZs_FPYff"
      },
      "execution_count": 9,
      "outputs": []
    },
    {
      "cell_type": "code",
      "source": [
        "tuner.search(train_img,train_labels,validation_split=0.2,callbacks=[early_stopping],epochs=50)\n",
        "\n",
        "best_hps = tuner.get_best_hyperparameters(num_trials=1)[0]\n",
        "\n",
        "print(f\"\"\"\n",
        "The hyperparameter search is complete. The optimal number of units in the first densely-connected\n",
        "layer is {best_hps.get('units')} and the optimal learning rate for the optimizer\n",
        "is {best_hps.get('learning_rate')}.\n",
        "\"\"\")"
      ],
      "metadata": {
        "colab": {
          "base_uri": "https://localhost:8080/"
        },
        "id": "SAVvajcAQPMq",
        "outputId": "2e1e60b4-c6bb-4ed9-df42-e1515998250d"
      },
      "execution_count": 11,
      "outputs": [
        {
          "output_type": "stream",
          "name": "stdout",
          "text": [
            "Trial 30 Complete [00h 01m 27s]\n",
            "val_accuracy: 0.8598333597183228\n",
            "\n",
            "Best val_accuracy So Far: 0.8926666378974915\n",
            "Total elapsed time: 00h 15m 24s\n",
            "INFO:tensorflow:Oracle triggered exit\n",
            "\n",
            "The hyperparameter search is complete. The optimal number of units in the first densely-connected\n",
            "layer is 384 and the optimal learning rate for the optimizer\n",
            "is 0.001.\n",
            "\n"
          ]
        }
      ]
    },
    {
      "cell_type": "code",
      "source": [
        "model = tuner.hypermodel.build(best_hps)\n",
        "history = model.fit(train_img,train_labels,epochs=50,validation_split=0.2)\n",
        "\n",
        "val_acc_per_epoch = history.history['val_accuracy']\n",
        "\n",
        "best_epoch = val_acc_per_epoch.index(max(val_acc_per_epoch)) + 1\n",
        "print('Best epoch: %d' % (best_epoch,))"
      ],
      "metadata": {
        "colab": {
          "base_uri": "https://localhost:8080/"
        },
        "id": "JrtebflGQ3Jx",
        "outputId": "9e14fced-c189-49da-eba1-5c4dbd6cb190"
      },
      "execution_count": 12,
      "outputs": [
        {
          "output_type": "stream",
          "name": "stdout",
          "text": [
            "Epoch 1/50\n",
            "1500/1500 [==============================] - 8s 5ms/step - loss: 0.4986 - accuracy: 0.8229 - val_loss: 0.3966 - val_accuracy: 0.8597\n",
            "Epoch 2/50\n",
            "1500/1500 [==============================] - 7s 5ms/step - loss: 0.3695 - accuracy: 0.8665 - val_loss: 0.3514 - val_accuracy: 0.8720\n",
            "Epoch 3/50\n",
            "1500/1500 [==============================] - 7s 4ms/step - loss: 0.3302 - accuracy: 0.8790 - val_loss: 0.3517 - val_accuracy: 0.8758\n",
            "Epoch 4/50\n",
            "1500/1500 [==============================] - 7s 5ms/step - loss: 0.3066 - accuracy: 0.8869 - val_loss: 0.3381 - val_accuracy: 0.8761\n",
            "Epoch 5/50\n",
            "1500/1500 [==============================] - 7s 5ms/step - loss: 0.2881 - accuracy: 0.8924 - val_loss: 0.3293 - val_accuracy: 0.8799\n",
            "Epoch 6/50\n",
            "1500/1500 [==============================] - 7s 5ms/step - loss: 0.2725 - accuracy: 0.8985 - val_loss: 0.3260 - val_accuracy: 0.8854\n",
            "Epoch 7/50\n",
            "1500/1500 [==============================] - 8s 5ms/step - loss: 0.2584 - accuracy: 0.9047 - val_loss: 0.3549 - val_accuracy: 0.8741\n",
            "Epoch 8/50\n",
            "1500/1500 [==============================] - 7s 5ms/step - loss: 0.2460 - accuracy: 0.9072 - val_loss: 0.3068 - val_accuracy: 0.8891\n",
            "Epoch 9/50\n",
            "1500/1500 [==============================] - 8s 5ms/step - loss: 0.2347 - accuracy: 0.9129 - val_loss: 0.3043 - val_accuracy: 0.8943\n",
            "Epoch 10/50\n",
            "1500/1500 [==============================] - 8s 5ms/step - loss: 0.2253 - accuracy: 0.9152 - val_loss: 0.3179 - val_accuracy: 0.8863\n",
            "Epoch 11/50\n",
            "1500/1500 [==============================] - 7s 5ms/step - loss: 0.2165 - accuracy: 0.9186 - val_loss: 0.3152 - val_accuracy: 0.8931\n",
            "Epoch 12/50\n",
            "1500/1500 [==============================] - 7s 5ms/step - loss: 0.2078 - accuracy: 0.9233 - val_loss: 0.3282 - val_accuracy: 0.8925\n",
            "Epoch 13/50\n",
            "1500/1500 [==============================] - 8s 5ms/step - loss: 0.1998 - accuracy: 0.9255 - val_loss: 0.3361 - val_accuracy: 0.8857\n",
            "Epoch 14/50\n",
            "1500/1500 [==============================] - 7s 5ms/step - loss: 0.1942 - accuracy: 0.9274 - val_loss: 0.3169 - val_accuracy: 0.8932\n",
            "Epoch 15/50\n",
            "1500/1500 [==============================] - 7s 5ms/step - loss: 0.1876 - accuracy: 0.9306 - val_loss: 0.3202 - val_accuracy: 0.8936\n",
            "Epoch 16/50\n",
            "1500/1500 [==============================] - 7s 5ms/step - loss: 0.1782 - accuracy: 0.9325 - val_loss: 0.3538 - val_accuracy: 0.8861\n",
            "Epoch 17/50\n",
            "1500/1500 [==============================] - 7s 5ms/step - loss: 0.1754 - accuracy: 0.9344 - val_loss: 0.3336 - val_accuracy: 0.8935\n",
            "Epoch 18/50\n",
            "1500/1500 [==============================] - 7s 5ms/step - loss: 0.1677 - accuracy: 0.9373 - val_loss: 0.3382 - val_accuracy: 0.8937\n",
            "Epoch 19/50\n",
            "1500/1500 [==============================] - 7s 4ms/step - loss: 0.1607 - accuracy: 0.9402 - val_loss: 0.3593 - val_accuracy: 0.8906\n",
            "Epoch 20/50\n",
            "1500/1500 [==============================] - 7s 5ms/step - loss: 0.1573 - accuracy: 0.9410 - val_loss: 0.3669 - val_accuracy: 0.8927\n",
            "Epoch 21/50\n",
            "1500/1500 [==============================] - 7s 5ms/step - loss: 0.1533 - accuracy: 0.9416 - val_loss: 0.3734 - val_accuracy: 0.8870\n",
            "Epoch 22/50\n",
            "1500/1500 [==============================] - 7s 5ms/step - loss: 0.1466 - accuracy: 0.9448 - val_loss: 0.3490 - val_accuracy: 0.8953\n",
            "Epoch 23/50\n",
            "1500/1500 [==============================] - 7s 5ms/step - loss: 0.1421 - accuracy: 0.9467 - val_loss: 0.3590 - val_accuracy: 0.8954\n",
            "Epoch 24/50\n",
            "1500/1500 [==============================] - 7s 5ms/step - loss: 0.1388 - accuracy: 0.9484 - val_loss: 0.3657 - val_accuracy: 0.8927\n",
            "Epoch 25/50\n",
            "1500/1500 [==============================] - 7s 5ms/step - loss: 0.1348 - accuracy: 0.9489 - val_loss: 0.3785 - val_accuracy: 0.8953\n",
            "Epoch 26/50\n",
            "1500/1500 [==============================] - 7s 5ms/step - loss: 0.1296 - accuracy: 0.9516 - val_loss: 0.3795 - val_accuracy: 0.8931\n",
            "Epoch 27/50\n",
            "1500/1500 [==============================] - 8s 5ms/step - loss: 0.1279 - accuracy: 0.9519 - val_loss: 0.3858 - val_accuracy: 0.8926\n",
            "Epoch 28/50\n",
            "1500/1500 [==============================] - 7s 5ms/step - loss: 0.1218 - accuracy: 0.9547 - val_loss: 0.3857 - val_accuracy: 0.8978\n",
            "Epoch 29/50\n",
            "1500/1500 [==============================] - 8s 5ms/step - loss: 0.1181 - accuracy: 0.9562 - val_loss: 0.4254 - val_accuracy: 0.8919\n",
            "Epoch 30/50\n",
            "1500/1500 [==============================] - 7s 5ms/step - loss: 0.1161 - accuracy: 0.9563 - val_loss: 0.4199 - val_accuracy: 0.8907\n",
            "Epoch 31/50\n",
            "1500/1500 [==============================] - 7s 5ms/step - loss: 0.1147 - accuracy: 0.9565 - val_loss: 0.3821 - val_accuracy: 0.9001\n",
            "Epoch 32/50\n",
            "1500/1500 [==============================] - 8s 5ms/step - loss: 0.1087 - accuracy: 0.9595 - val_loss: 0.3971 - val_accuracy: 0.8964\n",
            "Epoch 33/50\n",
            "1500/1500 [==============================] - 8s 5ms/step - loss: 0.1090 - accuracy: 0.9596 - val_loss: 0.4174 - val_accuracy: 0.8916\n",
            "Epoch 34/50\n",
            "1500/1500 [==============================] - 7s 5ms/step - loss: 0.1029 - accuracy: 0.9616 - val_loss: 0.4149 - val_accuracy: 0.8972\n",
            "Epoch 35/50\n",
            "1500/1500 [==============================] - 7s 5ms/step - loss: 0.1043 - accuracy: 0.9606 - val_loss: 0.4285 - val_accuracy: 0.8961\n",
            "Epoch 36/50\n",
            "1500/1500 [==============================] - 7s 5ms/step - loss: 0.1028 - accuracy: 0.9609 - val_loss: 0.4379 - val_accuracy: 0.8910\n",
            "Epoch 37/50\n",
            "1500/1500 [==============================] - 8s 5ms/step - loss: 0.0984 - accuracy: 0.9629 - val_loss: 0.4412 - val_accuracy: 0.8978\n",
            "Epoch 38/50\n",
            "1500/1500 [==============================] - 8s 5ms/step - loss: 0.0951 - accuracy: 0.9638 - val_loss: 0.4444 - val_accuracy: 0.8937\n",
            "Epoch 39/50\n",
            "1500/1500 [==============================] - 7s 5ms/step - loss: 0.0911 - accuracy: 0.9662 - val_loss: 0.4648 - val_accuracy: 0.8916\n",
            "Epoch 40/50\n",
            "1500/1500 [==============================] - 8s 5ms/step - loss: 0.0936 - accuracy: 0.9655 - val_loss: 0.4603 - val_accuracy: 0.8923\n",
            "Epoch 41/50\n",
            "1500/1500 [==============================] - 7s 5ms/step - loss: 0.0900 - accuracy: 0.9666 - val_loss: 0.4590 - val_accuracy: 0.8965\n",
            "Epoch 42/50\n",
            "1500/1500 [==============================] - 7s 5ms/step - loss: 0.0860 - accuracy: 0.9669 - val_loss: 0.4850 - val_accuracy: 0.8925\n",
            "Epoch 43/50\n",
            "1500/1500 [==============================] - 7s 5ms/step - loss: 0.0885 - accuracy: 0.9668 - val_loss: 0.4854 - val_accuracy: 0.8930\n",
            "Epoch 44/50\n",
            "1500/1500 [==============================] - 7s 5ms/step - loss: 0.0829 - accuracy: 0.9690 - val_loss: 0.4892 - val_accuracy: 0.8955\n",
            "Epoch 45/50\n",
            "1500/1500 [==============================] - 7s 5ms/step - loss: 0.0808 - accuracy: 0.9687 - val_loss: 0.5071 - val_accuracy: 0.8908\n",
            "Epoch 46/50\n",
            "1500/1500 [==============================] - 8s 5ms/step - loss: 0.0781 - accuracy: 0.9703 - val_loss: 0.4825 - val_accuracy: 0.8950\n",
            "Epoch 47/50\n",
            "1500/1500 [==============================] - 8s 5ms/step - loss: 0.0787 - accuracy: 0.9703 - val_loss: 0.5025 - val_accuracy: 0.8905\n",
            "Epoch 48/50\n",
            "1500/1500 [==============================] - 7s 5ms/step - loss: 0.0761 - accuracy: 0.9719 - val_loss: 0.5398 - val_accuracy: 0.8937\n",
            "Epoch 49/50\n",
            "1500/1500 [==============================] - 7s 5ms/step - loss: 0.0776 - accuracy: 0.9712 - val_loss: 0.5047 - val_accuracy: 0.8981\n",
            "Epoch 50/50\n",
            "1500/1500 [==============================] - 7s 5ms/step - loss: 0.0741 - accuracy: 0.9726 - val_loss: 0.5235 - val_accuracy: 0.8928\n",
            "Best epoch: 31\n"
          ]
        }
      ]
    },
    {
      "cell_type": "code",
      "source": [
        "hypermodel = tuner.hypermodel.build(best_hps)\n",
        "\n",
        "# Retrain the model\n",
        "hypermodel.fit(train_img, train_labels, epochs=best_epoch, validation_split=0.2)"
      ],
      "metadata": {
        "colab": {
          "base_uri": "https://localhost:8080/"
        },
        "id": "D2fE3xRTV7Q_",
        "outputId": "a12c30e6-7ee8-4fe0-b448-76ac7eef047d"
      },
      "execution_count": 15,
      "outputs": [
        {
          "output_type": "stream",
          "name": "stdout",
          "text": [
            "Epoch 1/31\n",
            "1500/1500 [==============================] - 8s 5ms/step - loss: 0.4918 - accuracy: 0.8258 - val_loss: 0.4071 - val_accuracy: 0.8574\n",
            "Epoch 2/31\n",
            "1500/1500 [==============================] - 7s 5ms/step - loss: 0.3711 - accuracy: 0.8653 - val_loss: 0.3735 - val_accuracy: 0.8664\n",
            "Epoch 3/31\n",
            "1500/1500 [==============================] - 7s 5ms/step - loss: 0.3329 - accuracy: 0.8767 - val_loss: 0.3335 - val_accuracy: 0.8805\n",
            "Epoch 4/31\n",
            "1500/1500 [==============================] - 7s 5ms/step - loss: 0.3061 - accuracy: 0.8881 - val_loss: 0.3425 - val_accuracy: 0.8737\n",
            "Epoch 5/31\n",
            "1500/1500 [==============================] - 7s 5ms/step - loss: 0.2873 - accuracy: 0.8939 - val_loss: 0.3454 - val_accuracy: 0.8763\n",
            "Epoch 6/31\n",
            "1500/1500 [==============================] - 7s 5ms/step - loss: 0.2699 - accuracy: 0.8989 - val_loss: 0.3477 - val_accuracy: 0.8745\n",
            "Epoch 7/31\n",
            "1500/1500 [==============================] - 8s 5ms/step - loss: 0.2565 - accuracy: 0.9039 - val_loss: 0.3232 - val_accuracy: 0.8870\n",
            "Epoch 8/31\n",
            "1500/1500 [==============================] - 7s 5ms/step - loss: 0.2455 - accuracy: 0.9074 - val_loss: 0.3087 - val_accuracy: 0.8891\n",
            "Epoch 9/31\n",
            "1500/1500 [==============================] - 8s 5ms/step - loss: 0.2349 - accuracy: 0.9121 - val_loss: 0.3019 - val_accuracy: 0.8938\n",
            "Epoch 10/31\n",
            "1500/1500 [==============================] - 7s 5ms/step - loss: 0.2263 - accuracy: 0.9149 - val_loss: 0.3053 - val_accuracy: 0.8945\n",
            "Epoch 11/31\n",
            "1500/1500 [==============================] - 7s 5ms/step - loss: 0.2161 - accuracy: 0.9190 - val_loss: 0.3186 - val_accuracy: 0.8917\n",
            "Epoch 12/31\n",
            "1500/1500 [==============================] - 7s 5ms/step - loss: 0.2080 - accuracy: 0.9223 - val_loss: 0.3145 - val_accuracy: 0.8925\n",
            "Epoch 13/31\n",
            "1500/1500 [==============================] - 7s 5ms/step - loss: 0.1999 - accuracy: 0.9250 - val_loss: 0.3451 - val_accuracy: 0.8779\n",
            "Epoch 14/31\n",
            "1500/1500 [==============================] - 7s 5ms/step - loss: 0.1930 - accuracy: 0.9264 - val_loss: 0.3193 - val_accuracy: 0.8952\n",
            "Epoch 15/31\n",
            "1500/1500 [==============================] - 7s 5ms/step - loss: 0.1856 - accuracy: 0.9301 - val_loss: 0.3224 - val_accuracy: 0.8922\n",
            "Epoch 16/31\n",
            "1500/1500 [==============================] - 7s 5ms/step - loss: 0.1797 - accuracy: 0.9330 - val_loss: 0.3210 - val_accuracy: 0.8973\n",
            "Epoch 17/31\n",
            "1500/1500 [==============================] - 7s 5ms/step - loss: 0.1737 - accuracy: 0.9347 - val_loss: 0.3427 - val_accuracy: 0.8906\n",
            "Epoch 18/31\n",
            "1500/1500 [==============================] - 7s 5ms/step - loss: 0.1674 - accuracy: 0.9363 - val_loss: 0.3461 - val_accuracy: 0.8905\n",
            "Epoch 19/31\n",
            "1500/1500 [==============================] - 7s 5ms/step - loss: 0.1616 - accuracy: 0.9387 - val_loss: 0.3589 - val_accuracy: 0.8931\n",
            "Epoch 20/31\n",
            "1500/1500 [==============================] - 8s 5ms/step - loss: 0.1613 - accuracy: 0.9401 - val_loss: 0.3455 - val_accuracy: 0.8933\n",
            "Epoch 21/31\n",
            "1500/1500 [==============================] - 8s 5ms/step - loss: 0.1529 - accuracy: 0.9420 - val_loss: 0.3455 - val_accuracy: 0.8961\n",
            "Epoch 22/31\n",
            "1500/1500 [==============================] - 7s 5ms/step - loss: 0.1497 - accuracy: 0.9429 - val_loss: 0.3317 - val_accuracy: 0.8985\n",
            "Epoch 23/31\n",
            "1500/1500 [==============================] - 8s 5ms/step - loss: 0.1437 - accuracy: 0.9462 - val_loss: 0.4148 - val_accuracy: 0.8852\n",
            "Epoch 24/31\n",
            "1500/1500 [==============================] - 7s 5ms/step - loss: 0.1382 - accuracy: 0.9481 - val_loss: 0.3760 - val_accuracy: 0.8928\n",
            "Epoch 25/31\n",
            "1500/1500 [==============================] - 7s 5ms/step - loss: 0.1350 - accuracy: 0.9490 - val_loss: 0.3630 - val_accuracy: 0.8903\n",
            "Epoch 26/31\n",
            "1500/1500 [==============================] - 7s 5ms/step - loss: 0.1319 - accuracy: 0.9502 - val_loss: 0.3738 - val_accuracy: 0.8936\n",
            "Epoch 27/31\n",
            "1500/1500 [==============================] - 7s 5ms/step - loss: 0.1311 - accuracy: 0.9511 - val_loss: 0.3846 - val_accuracy: 0.8948\n",
            "Epoch 28/31\n",
            "1500/1500 [==============================] - 7s 5ms/step - loss: 0.1282 - accuracy: 0.9506 - val_loss: 0.3988 - val_accuracy: 0.8951\n",
            "Epoch 29/31\n",
            "1500/1500 [==============================] - 7s 5ms/step - loss: 0.1221 - accuracy: 0.9538 - val_loss: 0.4102 - val_accuracy: 0.8917\n",
            "Epoch 30/31\n",
            "1500/1500 [==============================] - 7s 5ms/step - loss: 0.1182 - accuracy: 0.9560 - val_loss: 0.4188 - val_accuracy: 0.8842\n",
            "Epoch 31/31\n",
            "1500/1500 [==============================] - 7s 5ms/step - loss: 0.1194 - accuracy: 0.9557 - val_loss: 0.3957 - val_accuracy: 0.8941\n"
          ]
        },
        {
          "output_type": "execute_result",
          "data": {
            "text/plain": [
              "<keras.callbacks.History at 0x7f81ea16bc10>"
            ]
          },
          "metadata": {},
          "execution_count": 15
        }
      ]
    },
    {
      "cell_type": "code",
      "source": [
        "eval_result = hypermodel.evaluate(test_img,test_labels)\n",
        "print(\"[test loss, test accuracy]:\", eval_result)\n",
        "\n"
      ],
      "metadata": {
        "colab": {
          "base_uri": "https://localhost:8080/"
        },
        "id": "poO-Z08OXZss",
        "outputId": "aa699a53-a2c5-4088-8fa4-da907aa08d2b"
      },
      "execution_count": 17,
      "outputs": [
        {
          "output_type": "stream",
          "name": "stdout",
          "text": [
            "313/313 [==============================] - 1s 3ms/step - loss: 0.4569 - accuracy: 0.8910\n",
            "[test loss, test accuracy]: [0.4568565785884857, 0.890999972820282]\n"
          ]
        }
      ]
    },
    {
      "cell_type": "code",
      "source": [
        ""
      ],
      "metadata": {
        "id": "YIeZh7HbY6sp"
      },
      "execution_count": null,
      "outputs": []
    }
  ]
}