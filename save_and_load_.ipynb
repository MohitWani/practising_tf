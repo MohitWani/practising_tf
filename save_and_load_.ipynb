{
  "nbformat": 4,
  "nbformat_minor": 0,
  "metadata": {
    "colab": {
      "name": "save and load .ipynb",
      "provenance": [],
      "collapsed_sections": []
    },
    "kernelspec": {
      "name": "python3",
      "display_name": "Python 3"
    },
    "language_info": {
      "name": "python"
    }
  },
  "cells": [
    {
      "cell_type": "markdown",
      "source": [
        "**Importing Modules**"
      ],
      "metadata": {
        "id": "0Hx3Oo5SZToW"
      }
    },
    {
      "cell_type": "code",
      "execution_count": 1,
      "metadata": {
        "colab": {
          "base_uri": "https://localhost:8080/"
        },
        "id": "YjgsQWQ1ZSll",
        "outputId": "ed5ed29a-142c-4597-903b-efef38928253"
      },
      "outputs": [
        {
          "output_type": "stream",
          "name": "stdout",
          "text": [
            "Requirement already satisfied: pyyaml in /usr/local/lib/python3.7/dist-packages (3.13)\n",
            "Requirement already satisfied: h5py in /usr/local/lib/python3.7/dist-packages (3.1.0)\n",
            "Requirement already satisfied: cached-property in /usr/local/lib/python3.7/dist-packages (from h5py) (1.5.2)\n",
            "Requirement already satisfied: numpy>=1.14.5 in /usr/local/lib/python3.7/dist-packages (from h5py) (1.21.6)\n"
          ]
        }
      ],
      "source": [
        "pip install pyyaml h5py"
      ]
    },
    {
      "cell_type": "code",
      "source": [
        "import os  \n",
        "import tensorflow as tf\n",
        "from tensorflow import keras\n",
        "import matplotlib.pyplot as plt\n",
        "\n",
        "\n",
        "print(tf.__version__)"
      ],
      "metadata": {
        "colab": {
          "base_uri": "https://localhost:8080/"
        },
        "id": "0PwIP80NZzOs",
        "outputId": "7cab2c1e-9b28-4a9c-db6c-5212c9a72524"
      },
      "execution_count": 2,
      "outputs": [
        {
          "output_type": "stream",
          "name": "stdout",
          "text": [
            "2.8.0\n"
          ]
        }
      ]
    },
    {
      "cell_type": "markdown",
      "source": [
        "Our Dataset"
      ],
      "metadata": {
        "id": "2tI6E4unaKdj"
      }
    },
    {
      "cell_type": "code",
      "source": [
        "(train_images, train_labels), (test_images, test_labels) = tf.keras.datasets.mnist.load_data()\n",
        "\n",
        "train_labels = train_labels[:1000]\n",
        "test_labels = test_labels[:1000]\n",
        "\n",
        "\n",
        "train_images = train_images[:1000].reshape(-1, 28*28)/255.0\n",
        "test_images = test_images[:1000].reshape(-1, 28*28)/255.0"
      ],
      "metadata": {
        "id": "-IIxvHkwaFsa",
        "colab": {
          "base_uri": "https://localhost:8080/"
        },
        "outputId": "4b9497d7-3c0a-4623-9af0-09bfd126b68e"
      },
      "execution_count": 3,
      "outputs": [
        {
          "output_type": "stream",
          "name": "stdout",
          "text": [
            "Downloading data from https://storage.googleapis.com/tensorflow/tf-keras-datasets/mnist.npz\n",
            "11493376/11490434 [==============================] - 1s 0us/step\n",
            "11501568/11490434 [==============================] - 1s 0us/step\n"
          ]
        }
      ]
    },
    {
      "cell_type": "code",
      "source": [
        "def create_model():\n",
        "  model = tf.keras.Sequential([\n",
        "                               keras.layers.Dense(512, activation='relu', input_shape=(784,)),\n",
        "                               keras.layers.Dropout(0.2),\n",
        "                               keras.layers.Dense(10)\n",
        "  ])\n",
        "\n",
        "\n",
        "  model.compile(optimizer='adam',\n",
        "                loss=tf.losses.SparseCategoricalCrossentropy(from_logits=True),\n",
        "                metrics=[tf.metrics.SparseCategoricalAccuracy()])\n",
        "\n",
        "  return model\n",
        "\n",
        "model = create_model()\n",
        "\n",
        "model.summary()"
      ],
      "metadata": {
        "colab": {
          "base_uri": "https://localhost:8080/"
        },
        "id": "Y39foXsAbKVb",
        "outputId": "a3765d34-6995-4880-8fb3-18dd3375f7f0"
      },
      "execution_count": 4,
      "outputs": [
        {
          "output_type": "stream",
          "name": "stdout",
          "text": [
            "Model: \"sequential\"\n",
            "_________________________________________________________________\n",
            " Layer (type)                Output Shape              Param #   \n",
            "=================================================================\n",
            " dense (Dense)               (None, 512)               401920    \n",
            "                                                                 \n",
            " dropout (Dropout)           (None, 512)               0         \n",
            "                                                                 \n",
            " dense_1 (Dense)             (None, 10)                5130      \n",
            "                                                                 \n",
            "=================================================================\n",
            "Total params: 407,050\n",
            "Trainable params: 407,050\n",
            "Non-trainable params: 0\n",
            "_________________________________________________________________\n"
          ]
        }
      ]
    },
    {
      "cell_type": "markdown",
      "source": [
        "Checkpoints Callbacks"
      ],
      "metadata": {
        "id": "1OOOVQ-pTbNn"
      }
    },
    {
      "cell_type": "code",
      "source": [
        "checkpoint_path = \"training_1/cp.ckpt\"\n",
        "checkpoint_dir = os.path.dirname(checkpoint_path)\n",
        "\n",
        "# Create a callback that saves the model's weights\n",
        "cp_callback = tf.keras.callbacks.ModelCheckpoint(filepath=checkpoint_path,\n",
        "                                                 save_weights_only=True,\n",
        "                                                 verbose=1)\n",
        "\n",
        "# Train the model with the new callback\n",
        "model.fit(train_images, \n",
        "          train_labels,  \n",
        "          epochs=10,\n",
        "          validation_data=(test_images, test_labels),\n",
        "          callbacks=[cp_callback]) "
      ],
      "metadata": {
        "id": "EQTpfTbZbTED",
        "colab": {
          "base_uri": "https://localhost:8080/"
        },
        "outputId": "ba4250e2-9762-4793-e78d-a74cfcdecb3d"
      },
      "execution_count": 5,
      "outputs": [
        {
          "output_type": "stream",
          "name": "stdout",
          "text": [
            "Epoch 1/10\n",
            "25/32 [======================>.......] - ETA: 0s - loss: 1.2320 - sparse_categorical_accuracy: 0.6550\n",
            "Epoch 1: saving model to training_1/cp.ckpt\n",
            "32/32 [==============================] - 1s 16ms/step - loss: 1.1054 - sparse_categorical_accuracy: 0.6880 - val_loss: 0.7023 - val_sparse_categorical_accuracy: 0.7880\n",
            "Epoch 2/10\n",
            "30/32 [===========================>..] - ETA: 0s - loss: 0.4091 - sparse_categorical_accuracy: 0.8813\n",
            "Epoch 2: saving model to training_1/cp.ckpt\n",
            "32/32 [==============================] - 0s 9ms/step - loss: 0.4095 - sparse_categorical_accuracy: 0.8800 - val_loss: 0.5078 - val_sparse_categorical_accuracy: 0.8470\n",
            "Epoch 3/10\n",
            "30/32 [===========================>..] - ETA: 0s - loss: 0.2678 - sparse_categorical_accuracy: 0.9333\n",
            "Epoch 3: saving model to training_1/cp.ckpt\n",
            "32/32 [==============================] - 0s 9ms/step - loss: 0.2680 - sparse_categorical_accuracy: 0.9330 - val_loss: 0.4464 - val_sparse_categorical_accuracy: 0.8570\n",
            "Epoch 4/10\n",
            "27/32 [========================>.....] - ETA: 0s - loss: 0.2030 - sparse_categorical_accuracy: 0.9537\n",
            "Epoch 4: saving model to training_1/cp.ckpt\n",
            "32/32 [==============================] - 0s 12ms/step - loss: 0.2046 - sparse_categorical_accuracy: 0.9540 - val_loss: 0.4748 - val_sparse_categorical_accuracy: 0.8450\n",
            "Epoch 5/10\n",
            "23/32 [====================>.........] - ETA: 0s - loss: 0.1453 - sparse_categorical_accuracy: 0.9742\n",
            "Epoch 5: saving model to training_1/cp.ckpt\n",
            "32/32 [==============================] - 0s 10ms/step - loss: 0.1517 - sparse_categorical_accuracy: 0.9710 - val_loss: 0.4262 - val_sparse_categorical_accuracy: 0.8630\n",
            "Epoch 6/10\n",
            "32/32 [==============================] - ETA: 0s - loss: 0.1087 - sparse_categorical_accuracy: 0.9790\n",
            "Epoch 6: saving model to training_1/cp.ckpt\n",
            "32/32 [==============================] - 0s 12ms/step - loss: 0.1087 - sparse_categorical_accuracy: 0.9790 - val_loss: 0.4271 - val_sparse_categorical_accuracy: 0.8630\n",
            "Epoch 7/10\n",
            "27/32 [========================>.....] - ETA: 0s - loss: 0.0899 - sparse_categorical_accuracy: 0.9838\n",
            "Epoch 7: saving model to training_1/cp.ckpt\n",
            "32/32 [==============================] - 0s 10ms/step - loss: 0.0859 - sparse_categorical_accuracy: 0.9850 - val_loss: 0.4239 - val_sparse_categorical_accuracy: 0.8650\n",
            "Epoch 8/10\n",
            "30/32 [===========================>..] - ETA: 0s - loss: 0.0607 - sparse_categorical_accuracy: 0.9937\n",
            "Epoch 8: saving model to training_1/cp.ckpt\n",
            "32/32 [==============================] - 0s 10ms/step - loss: 0.0643 - sparse_categorical_accuracy: 0.9920 - val_loss: 0.4356 - val_sparse_categorical_accuracy: 0.8580\n",
            "Epoch 9/10\n",
            "28/32 [=========================>....] - ETA: 0s - loss: 0.0499 - sparse_categorical_accuracy: 0.9967\n",
            "Epoch 9: saving model to training_1/cp.ckpt\n",
            "32/32 [==============================] - 0s 10ms/step - loss: 0.0495 - sparse_categorical_accuracy: 0.9970 - val_loss: 0.4352 - val_sparse_categorical_accuracy: 0.8660\n",
            "Epoch 10/10\n",
            "24/32 [=====================>........] - ETA: 0s - loss: 0.0414 - sparse_categorical_accuracy: 0.9961\n",
            "Epoch 10: saving model to training_1/cp.ckpt\n",
            "32/32 [==============================] - 0s 10ms/step - loss: 0.0410 - sparse_categorical_accuracy: 0.9970 - val_loss: 0.4141 - val_sparse_categorical_accuracy: 0.8640\n"
          ]
        },
        {
          "output_type": "execute_result",
          "data": {
            "text/plain": [
              "<keras.callbacks.History at 0x7fd212168990>"
            ]
          },
          "metadata": {},
          "execution_count": 5
        }
      ]
    },
    {
      "cell_type": "code",
      "source": [
        "os.listdir(checkpoint_dir)"
      ],
      "metadata": {
        "colab": {
          "base_uri": "https://localhost:8080/"
        },
        "id": "nhO5NB8dUqfG",
        "outputId": "aaa0c960-5c7d-4941-d1e8-234fb4bf0818"
      },
      "execution_count": 6,
      "outputs": [
        {
          "output_type": "execute_result",
          "data": {
            "text/plain": [
              "['checkpoint', 'cp.ckpt.index', 'cp.ckpt.data-00000-of-00001']"
            ]
          },
          "metadata": {},
          "execution_count": 6
        }
      ]
    },
    {
      "cell_type": "code",
      "source": [
        "model = create_model()\n",
        "\n",
        "loss, accu = model.evaluate(test_images,test_labels,verbose=2)\n",
        "\n",
        "print('Untrain_model, accuracy: {:5.2f}%'.format(100*accu))"
      ],
      "metadata": {
        "colab": {
          "base_uri": "https://localhost:8080/"
        },
        "id": "KUQprd7dYKSJ",
        "outputId": "153f62b9-ac8d-4f4a-e940-28613c4b7bd3"
      },
      "execution_count": 7,
      "outputs": [
        {
          "output_type": "stream",
          "name": "stdout",
          "text": [
            "32/32 - 0s - loss: 2.4029 - sparse_categorical_accuracy: 0.0760 - 172ms/epoch - 5ms/step\n",
            "Untrain_model, accuracy:  7.60%\n"
          ]
        }
      ]
    },
    {
      "cell_type": "code",
      "source": [
        "checkpoint_path = \"training_2/cp-{epoch:04d}.ckpt\"\n",
        "checkpoint_dir = os.path.dirname(checkpoint_path)\n",
        "\n",
        "\n",
        "batch_size = 32\n",
        "\n",
        "cp_callback=tf.keras.callbacks.ModelCheckpoint(checkpoint_path,\n",
        "                                   verbose=2,\n",
        "                                   save_weights_only=True,\n",
        "                                   save_freq = 5*batch_size\n",
        "                                   )\n",
        "\n",
        "model = create_model()\n",
        "\n",
        "model.fit(train_images,train_labels,\n",
        "          epochs=50,\n",
        "          validation_data=(test_images,train_labels),\n",
        "          callbacks = [cp_callback],\n",
        "          verbose = 0,\n",
        "          batch_size=batch_size)"
      ],
      "metadata": {
        "colab": {
          "base_uri": "https://localhost:8080/"
        },
        "id": "AiMjI0rpaIeg",
        "outputId": "1d7d7eac-1fd0-41a1-e901-6307dfc4d180"
      },
      "execution_count": 8,
      "outputs": [
        {
          "output_type": "stream",
          "name": "stdout",
          "text": [
            "\n",
            "Epoch 5: saving model to training_2/cp-0005.ckpt\n",
            "\n",
            "Epoch 10: saving model to training_2/cp-0010.ckpt\n",
            "\n",
            "Epoch 15: saving model to training_2/cp-0015.ckpt\n",
            "\n",
            "Epoch 20: saving model to training_2/cp-0020.ckpt\n",
            "\n",
            "Epoch 25: saving model to training_2/cp-0025.ckpt\n",
            "\n",
            "Epoch 30: saving model to training_2/cp-0030.ckpt\n",
            "\n",
            "Epoch 35: saving model to training_2/cp-0035.ckpt\n",
            "\n",
            "Epoch 40: saving model to training_2/cp-0040.ckpt\n",
            "\n",
            "Epoch 45: saving model to training_2/cp-0045.ckpt\n",
            "\n",
            "Epoch 50: saving model to training_2/cp-0050.ckpt\n"
          ]
        },
        {
          "output_type": "execute_result",
          "data": {
            "text/plain": [
              "<keras.callbacks.History at 0x7fd2120826d0>"
            ]
          },
          "metadata": {},
          "execution_count": 8
        }
      ]
    },
    {
      "cell_type": "code",
      "source": [
        "os.listdir(checkpoint_dir)"
      ],
      "metadata": {
        "colab": {
          "base_uri": "https://localhost:8080/"
        },
        "id": "u3neBMOXdHMG",
        "outputId": "bfd2f0a1-c3c4-4741-893c-fdae107e7ad2"
      },
      "execution_count": 9,
      "outputs": [
        {
          "output_type": "execute_result",
          "data": {
            "text/plain": [
              "['cp-0045.ckpt.index',\n",
              " 'cp-0015.ckpt.data-00000-of-00001',\n",
              " 'cp-0010.ckpt.index',\n",
              " 'cp-0020.ckpt.index',\n",
              " 'cp-0035.ckpt.index',\n",
              " 'cp-0030.ckpt.index',\n",
              " 'cp-0040.ckpt.index',\n",
              " 'cp-0045.ckpt.data-00000-of-00001',\n",
              " 'cp-0050.ckpt.index',\n",
              " 'checkpoint',\n",
              " 'cp-0050.ckpt.data-00000-of-00001',\n",
              " 'cp-0035.ckpt.data-00000-of-00001',\n",
              " 'cp-0005.ckpt.data-00000-of-00001',\n",
              " 'cp-0020.ckpt.data-00000-of-00001',\n",
              " 'cp-0005.ckpt.index',\n",
              " 'cp-0030.ckpt.data-00000-of-00001',\n",
              " 'cp-0025.ckpt.data-00000-of-00001',\n",
              " 'cp-0010.ckpt.data-00000-of-00001',\n",
              " 'cp-0015.ckpt.index',\n",
              " 'cp-0025.ckpt.index',\n",
              " 'cp-0040.ckpt.data-00000-of-00001']"
            ]
          },
          "metadata": {},
          "execution_count": 9
        }
      ]
    },
    {
      "cell_type": "code",
      "source": [
        "latest = tf.train.latest_checkpoint(checkpoint_dir)\n",
        "latest"
      ],
      "metadata": {
        "colab": {
          "base_uri": "https://localhost:8080/",
          "height": 36
        },
        "id": "7FNAjC56dZnI",
        "outputId": "b85372b6-5994-4cdd-caf1-aa7eb5e7d837"
      },
      "execution_count": 10,
      "outputs": [
        {
          "output_type": "execute_result",
          "data": {
            "text/plain": [
              "'training_2/cp-0050.ckpt'"
            ],
            "application/vnd.google.colaboratory.intrinsic+json": {
              "type": "string"
            }
          },
          "metadata": {},
          "execution_count": 10
        }
      ]
    },
    {
      "cell_type": "code",
      "source": [
        "model = create_model()\n",
        "\n",
        "model.load_weights(latest)\n",
        "\n",
        "loss, accu = model.evaluate(test_images,test_labels)\n",
        "print('Untrain_model, accuracy: {:5.2f}%'.format(100*accu))"
      ],
      "metadata": {
        "colab": {
          "base_uri": "https://localhost:8080/"
        },
        "id": "dX6eHB3Hdfhx",
        "outputId": "d38c21f7-b9fc-44a8-9b38-f7a4f58c2af3"
      },
      "execution_count": 11,
      "outputs": [
        {
          "output_type": "stream",
          "name": "stdout",
          "text": [
            "32/32 [==============================] - 0s 3ms/step - loss: 0.4769 - sparse_categorical_accuracy: 0.8770\n",
            "Untrain_model, accuracy: 87.70%\n"
          ]
        }
      ]
    },
    {
      "cell_type": "code",
      "source": [
        "# Save the weights\n",
        "model.save_weights('./checkpoints/my_checkpoint')\n",
        "\n",
        "# Create a new model instance\n",
        "model = create_model()\n",
        "\n",
        "# Restore the weights\n",
        "model.load_weights('./checkpoints/my_checkpoint')\n",
        "\n",
        "# Evaluate the model\n",
        "loss, acc = model.evaluate(test_images, test_labels, verbose=2)\n",
        "print(\"Restored model, accuracy: {:5.2f}%\".format(100 * acc))"
      ],
      "metadata": {
        "colab": {
          "base_uri": "https://localhost:8080/"
        },
        "id": "dcHh0R6SeoiW",
        "outputId": "e5a9b980-5544-42ab-88c8-263b80679645"
      },
      "execution_count": 12,
      "outputs": [
        {
          "output_type": "stream",
          "name": "stdout",
          "text": [
            "32/32 - 0s - loss: 0.4769 - sparse_categorical_accuracy: 0.8770 - 199ms/epoch - 6ms/step\n",
            "Restored model, accuracy: 87.70%\n"
          ]
        }
      ]
    },
    {
      "cell_type": "code",
      "source": [
        "model = create_model()\n",
        "model.fit(train_images, train_labels, epochs=5)\n",
        "\n",
        "! mkdir -p saved_model\n",
        "model.save('saved_model/my_model')"
      ],
      "metadata": {
        "id": "94NUWdj0e9n_",
        "colab": {
          "base_uri": "https://localhost:8080/"
        },
        "outputId": "b4fd97ff-fec0-40ce-bec8-5b2c16035cdf"
      },
      "execution_count": 13,
      "outputs": [
        {
          "output_type": "stream",
          "name": "stdout",
          "text": [
            "Epoch 1/5\n",
            "32/32 [==============================] - 1s 5ms/step - loss: 1.1653 - sparse_categorical_accuracy: 0.6460\n",
            "Epoch 2/5\n",
            "32/32 [==============================] - 0s 5ms/step - loss: 0.4462 - sparse_categorical_accuracy: 0.8700\n",
            "Epoch 3/5\n",
            "32/32 [==============================] - 0s 6ms/step - loss: 0.2795 - sparse_categorical_accuracy: 0.9280\n",
            "Epoch 4/5\n",
            "32/32 [==============================] - 0s 6ms/step - loss: 0.2141 - sparse_categorical_accuracy: 0.9480\n",
            "Epoch 5/5\n",
            "32/32 [==============================] - 0s 6ms/step - loss: 0.1543 - sparse_categorical_accuracy: 0.9710\n",
            "INFO:tensorflow:Assets written to: saved_model/my_model/assets\n"
          ]
        }
      ]
    },
    {
      "cell_type": "code",
      "source": [
        "new_model = tf.keras.models.load_model('saved_model/my_model')\n",
        "\n",
        "new_model.summary()"
      ],
      "metadata": {
        "colab": {
          "base_uri": "https://localhost:8080/"
        },
        "id": "PNPYuuPg978Y",
        "outputId": "81e292e8-817e-4c8a-c2b5-a8e247ba6b61"
      },
      "execution_count": 18,
      "outputs": [
        {
          "output_type": "stream",
          "name": "stdout",
          "text": [
            "Model: \"sequential_5\"\n",
            "_________________________________________________________________\n",
            " Layer (type)                Output Shape              Param #   \n",
            "=================================================================\n",
            " dense_10 (Dense)            (None, 512)               401920    \n",
            "                                                                 \n",
            " dropout_5 (Dropout)         (None, 512)               0         \n",
            "                                                                 \n",
            " dense_11 (Dense)            (None, 10)                5130      \n",
            "                                                                 \n",
            "=================================================================\n",
            "Total params: 407,050\n",
            "Trainable params: 407,050\n",
            "Non-trainable params: 0\n",
            "_________________________________________________________________\n"
          ]
        }
      ]
    },
    {
      "cell_type": "code",
      "source": [
        "# Evaluate the restored model\n",
        "loss, acc = new_model.evaluate(test_images, test_labels, verbose=2)\n",
        "print('Restored model, accuracy: {:5.2f}%'.format(100 * acc))\n",
        "\n",
        "print(new_model.predict(test_images).shape)"
      ],
      "metadata": {
        "colab": {
          "base_uri": "https://localhost:8080/"
        },
        "id": "u8o1yn8o-Rf2",
        "outputId": "c8045f94-1889-44ba-f569-e9bdf306f51e"
      },
      "execution_count": 19,
      "outputs": [
        {
          "output_type": "stream",
          "name": "stdout",
          "text": [
            "32/32 - 0s - loss: 0.4297 - sparse_categorical_accuracy: 0.8540 - 214ms/epoch - 7ms/step\n",
            "Restored model, accuracy: 85.40%\n",
            "(1000, 10)\n"
          ]
        }
      ]
    },
    {
      "cell_type": "code",
      "source": [
        "# Create and train a new model instance.\n",
        "model = create_model()\n",
        "model.fit(train_images, train_labels, epochs=5)\n",
        "\n",
        "# Save the entire model to a HDF5 file.\n",
        "# The '.h5' extension indicates that the model should be saved to HDF5.\n",
        "model.save('my_model.h5')"
      ],
      "metadata": {
        "colab": {
          "base_uri": "https://localhost:8080/"
        },
        "id": "ewSFST-x_Zko",
        "outputId": "284368a3-72fc-42fb-9eb5-c6454115f7e6"
      },
      "execution_count": 20,
      "outputs": [
        {
          "output_type": "stream",
          "name": "stdout",
          "text": [
            "Epoch 1/5\n",
            "32/32 [==============================] - 1s 6ms/step - loss: 1.1647 - sparse_categorical_accuracy: 0.6480\n",
            "Epoch 2/5\n",
            "32/32 [==============================] - 0s 6ms/step - loss: 0.4253 - sparse_categorical_accuracy: 0.8850\n",
            "Epoch 3/5\n",
            "32/32 [==============================] - 0s 6ms/step - loss: 0.2878 - sparse_categorical_accuracy: 0.9270\n",
            "Epoch 4/5\n",
            "32/32 [==============================] - 0s 6ms/step - loss: 0.2180 - sparse_categorical_accuracy: 0.9440\n",
            "Epoch 5/5\n",
            "32/32 [==============================] - 0s 6ms/step - loss: 0.1554 - sparse_categorical_accuracy: 0.9690\n"
          ]
        }
      ]
    },
    {
      "cell_type": "code",
      "source": [
        "# Recreate the exact same model, including its weights and the optimizer\n",
        "new_model = tf.keras.models.load_model('my_model.h5')\n",
        "\n",
        "# Show the model architecture\n",
        "new_model.summary()"
      ],
      "metadata": {
        "colab": {
          "base_uri": "https://localhost:8080/"
        },
        "id": "u3V84G5m_pXF",
        "outputId": "91182037-6492-43b0-ab27-0df0c5be2dd2"
      },
      "execution_count": 21,
      "outputs": [
        {
          "output_type": "stream",
          "name": "stdout",
          "text": [
            "Model: \"sequential_6\"\n",
            "_________________________________________________________________\n",
            " Layer (type)                Output Shape              Param #   \n",
            "=================================================================\n",
            " dense_12 (Dense)            (None, 512)               401920    \n",
            "                                                                 \n",
            " dropout_6 (Dropout)         (None, 512)               0         \n",
            "                                                                 \n",
            " dense_13 (Dense)            (None, 10)                5130      \n",
            "                                                                 \n",
            "=================================================================\n",
            "Total params: 407,050\n",
            "Trainable params: 407,050\n",
            "Non-trainable params: 0\n",
            "_________________________________________________________________\n"
          ]
        }
      ]
    },
    {
      "cell_type": "code",
      "source": [
        "loss, acc = new_model.evaluate(test_images, test_labels, verbose=2)\n",
        "print('Restored model, accuracy: {:5.2f}%'.format(100 * acc))"
      ],
      "metadata": {
        "colab": {
          "base_uri": "https://localhost:8080/"
        },
        "id": "KtFvk3QE_usN",
        "outputId": "0f75033c-f3a1-4bb3-ce84-0486f8bb6a03"
      },
      "execution_count": 22,
      "outputs": [
        {
          "output_type": "stream",
          "name": "stdout",
          "text": [
            "32/32 - 0s - loss: 0.4265 - sparse_categorical_accuracy: 0.8620 - 178ms/epoch - 6ms/step\n",
            "Restored model, accuracy: 86.20%\n"
          ]
        }
      ]
    },
    {
      "cell_type": "code",
      "source": [
        ""
      ],
      "metadata": {
        "id": "L3qUTenQ_0hB"
      },
      "execution_count": null,
      "outputs": []
    }
  ]
}